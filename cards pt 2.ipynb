{
 "cells": [
  {
   "cell_type": "code",
   "execution_count": null,
   "id": "65dc0967",
   "metadata": {},
   "outputs": [
    {
     "name": "stdout",
     "output_type": "stream",
     "text": [
      "Sum: 172.035\n"
     ]
    }
   ],
   "source": [
    "using Random, StatsBase\n",
    "\n",
    "function random_deck(n)\n",
    "    deck = []\n",
    "    for i in 1:n\n",
    "        push!(deck, i)\n",
    "    end\n",
    "    shuffle!(deck)\n",
    "    return deck\n",
    "end\n",
    "\n",
    "function MC_max(deck, current_card)\n",
    "    total = 0\n",
    "    avg_max = 0\n",
    "    T = 1_000\n",
    "    remaining_after_removal = length(deck) - current_card\n",
    "    if remaining_after_removal > 0\n",
    "        for t in 1:T\n",
    "            sample_deck = sample(deck, remaining_after_removal)\n",
    "            total += maximum(sample_deck)\n",
    "        end\n",
    "        avg_max = total / T\n",
    "    end\n",
    "    return avg_max\n",
    "end\n",
    "\n",
    "T = 1_000\n",
    "tot_avg = 0\n",
    "for t in 1:T\n",
    "    #println(\"iter $t\")\n",
    "    objective = 0\n",
    "    deck = random_deck(100)\n",
    "    current_card = pop!(deck)\n",
    "    while length(deck) >= 0\n",
    "        ################## policy here ###############\n",
    "        max_after = MC_max(deck, current_card)\n",
    "        max_now = length(deck)>0 ? maximum(deck) : 0\n",
    "        current_card + max_after >= max_now ? action = 1 : action = 0\n",
    "        #current_card  >= 69 ? action = 1 : action = 0\n",
    "        #############################################\n",
    "        if action ==1\n",
    "            objective += current_card\n",
    "            cards_to_remove = min(current_card, length(deck))\n",
    "            deck = deck[1:end-cards_to_remove] \n",
    "        end\n",
    "        length(deck) > 0 ? current_card = pop!(deck) : break\n",
    "    end\n",
    "    tot_avg += objective\n",
    "end\n",
    "println(\"Sum: \", tot_avg/T) "
   ]
  }
 ],
 "metadata": {
  "kernelspec": {
   "display_name": "Julia 1.11.4",
   "language": "julia",
   "name": "julia-1.11"
  },
  "language_info": {
   "file_extension": ".jl",
   "mimetype": "application/julia",
   "name": "julia",
   "version": "1.11.4"
  }
 },
 "nbformat": 4,
 "nbformat_minor": 5
}
